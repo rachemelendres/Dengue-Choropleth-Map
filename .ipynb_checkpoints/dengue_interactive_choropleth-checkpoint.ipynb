{
 "cells": [
  {
   "cell_type": "code",
   "execution_count": 89,
   "metadata": {},
   "outputs": [],
   "source": [
    "#### IMPORT LIBRARIES ####\n",
    "import pandas as pd \n",
    "import numpy as np\n",
    "import matplotlib.pyplot as plt\n",
    "import geopandas as gpd\n",
    "import fiona as fn"
   ]
  },
  {
   "cell_type": "code",
   "execution_count": 90,
   "metadata": {},
   "outputs": [],
   "source": [
    "# load dengue dataset\n",
    "data = pd.read_csv(\"ph_dengue.csv\")"
   ]
  },
  {
   "cell_type": "code",
   "execution_count": 91,
   "metadata": {},
   "outputs": [
    {
     "data": {
      "text/html": [
       "<div>\n",
       "<style scoped>\n",
       "    .dataframe tbody tr th:only-of-type {\n",
       "        vertical-align: middle;\n",
       "    }\n",
       "\n",
       "    .dataframe tbody tr th {\n",
       "        vertical-align: top;\n",
       "    }\n",
       "\n",
       "    .dataframe thead th {\n",
       "        text-align: right;\n",
       "    }\n",
       "</style>\n",
       "<table border=\"1\" class=\"dataframe\">\n",
       "  <thead>\n",
       "    <tr style=\"text-align: right;\">\n",
       "      <th></th>\n",
       "      <th>Month</th>\n",
       "      <th>Year</th>\n",
       "      <th>Region</th>\n",
       "      <th>MTD_Cases</th>\n",
       "      <th>MTD_Deaths</th>\n",
       "    </tr>\n",
       "  </thead>\n",
       "  <tbody>\n",
       "    <tr>\n",
       "      <td>0</td>\n",
       "      <td>Jan</td>\n",
       "      <td>2019</td>\n",
       "      <td>Region I</td>\n",
       "      <td>411</td>\n",
       "      <td>1</td>\n",
       "    </tr>\n",
       "    <tr>\n",
       "      <td>1</td>\n",
       "      <td>Jan</td>\n",
       "      <td>2019</td>\n",
       "      <td>Region II</td>\n",
       "      <td>357</td>\n",
       "      <td>10</td>\n",
       "    </tr>\n",
       "    <tr>\n",
       "      <td>2</td>\n",
       "      <td>Jan</td>\n",
       "      <td>2019</td>\n",
       "      <td>Region III</td>\n",
       "      <td>1219</td>\n",
       "      <td>2</td>\n",
       "    </tr>\n",
       "    <tr>\n",
       "      <td>3</td>\n",
       "      <td>Jan</td>\n",
       "      <td>2019</td>\n",
       "      <td>Region IV-A</td>\n",
       "      <td>1903</td>\n",
       "      <td>4</td>\n",
       "    </tr>\n",
       "    <tr>\n",
       "      <td>4</td>\n",
       "      <td>Jan</td>\n",
       "      <td>2019</td>\n",
       "      <td>MIMAROPA</td>\n",
       "      <td>296</td>\n",
       "      <td>0</td>\n",
       "    </tr>\n",
       "  </tbody>\n",
       "</table>\n",
       "</div>"
      ],
      "text/plain": [
       "  Month  Year       Region  MTD_Cases  MTD_Deaths\n",
       "0   Jan  2019     Region I        411           1\n",
       "1   Jan  2019    Region II        357          10\n",
       "2   Jan  2019   Region III       1219           2\n",
       "3   Jan  2019  Region IV-A       1903           4\n",
       "4   Jan  2019     MIMAROPA        296           0"
      ]
     },
     "execution_count": 91,
     "metadata": {},
     "output_type": "execute_result"
    }
   ],
   "source": [
    "data.head()"
   ]
  },
  {
   "cell_type": "code",
   "execution_count": 92,
   "metadata": {},
   "outputs": [
    {
     "data": {
      "text/plain": [
       "(136, 5)"
      ]
     },
     "execution_count": 92,
     "metadata": {},
     "output_type": "execute_result"
    }
   ],
   "source": [
    "data.shape"
   ]
  },
  {
   "cell_type": "code",
   "execution_count": 93,
   "metadata": {},
   "outputs": [
    {
     "data": {
      "text/plain": [
       "Index(['Month', 'Year', 'Region', 'MTD_Cases', 'MTD_Deaths'], dtype='object')"
      ]
     },
     "execution_count": 93,
     "metadata": {},
     "output_type": "execute_result"
    }
   ],
   "source": [
    "data.columns"
   ]
  },
  {
   "cell_type": "code",
   "execution_count": 94,
   "metadata": {},
   "outputs": [],
   "source": [
    "# # Only include dengue case counts for data viz\n",
    "# cases = data[['Month', 'Year', 'Region', 'MTD_Cases']]\n",
    "# cases.head()"
   ]
  },
  {
   "cell_type": "code",
   "execution_count": null,
   "metadata": {},
   "outputs": [],
   "source": [
    "# load shapefile of Philippines\n",
    "ph_shape = gpd.read_file(\"ph_shapefile/Regions.shp\")\n",
    "ph_shape"
   ]
  },
  {
   "cell_type": "code",
   "execution_count": null,
   "metadata": {},
   "outputs": [],
   "source": [
    "# Check plot of shapefile\n",
    "plt.rcParams['figure.figsize'] = [20, 10] \n",
    "ph_shape.plot()"
   ]
  },
  {
   "cell_type": "code",
   "execution_count": null,
   "metadata": {},
   "outputs": [],
   "source": [
    "ph_shape.columns"
   ]
  },
  {
   "cell_type": "code",
   "execution_count": null,
   "metadata": {},
   "outputs": [],
   "source": [
    "# Rename all regions for easier reference and to match with the region column in the cases dataframe\n",
    "ph_shape['REGION'] = ph_shape['REGION'].apply({'Ilocos Region (Region I)': 'Region I',\n",
    " 'Cagayan Valley (Region II)': 'Region II',\n",
    " 'Central Luzon (Region III)': 'Region III',\n",
    " 'CALABARZON (Region IV-A)': 'Region IV-A',\n",
    " 'MIMAROPA (Region IV-B)': 'MIMAROPA',\n",
    " 'Bicol Region (Region V)': 'Region V',\n",
    " 'Western Visayas (Region VI)': 'Region VI',\n",
    " 'Central Visayas (Region VII)': 'Region VII',\n",
    " 'Eastern Visayas (Region VIII)': 'Region VIII',\n",
    " 'Zamboanga Peninsula (Region IX)': 'Region IX',\n",
    " 'Northern Mindanao (Region X)': 'Region X',\n",
    " 'Davao Region (Region XI)': 'Region XI',\n",
    " 'SOCCSKSARGEN (Region XII)': 'Region XII',\n",
    " 'Autonomous Region of Muslim Mindanao (ARMM)': 'ARMM',\n",
    " 'Cordillera Administrative Region (CAR)': 'CAR',\n",
    " 'Caraga (Region XIII)': 'CARAGA',\n",
    " 'Metropolitan Manila': 'NCR'}.get) "
   ]
  },
  {
   "cell_type": "code",
   "execution_count": null,
   "metadata": {},
   "outputs": [],
   "source": [
    "# Also, rename the region column\n",
    "ph_shape =ph_shape.rename(columns = {'REGION': 'Region'})\n",
    "ph_shape"
   ]
  },
  {
   "cell_type": "code",
   "execution_count": null,
   "metadata": {},
   "outputs": [],
   "source": [
    "# Merge cases and shapefile into one dataframe for analysis\n",
    "merged_dengue_shape = pd.merge(data, ph_shape, on= ['Region'])"
   ]
  },
  {
   "cell_type": "code",
   "execution_count": null,
   "metadata": {},
   "outputs": [],
   "source": [
    "merged_dengue_shape.head(5)"
   ]
  },
  {
   "cell_type": "markdown",
   "metadata": {},
   "source": [
    "# Data Viz using Bokeh"
   ]
  },
  {
   "cell_type": "code",
   "execution_count": null,
   "metadata": {},
   "outputs": [],
   "source": [
    "import math\n",
    "\n",
    "import json\n",
    "\n",
    "from bokeh.io import output_notebook, show, output_file\n",
    "from bokeh.plotting import figure\n",
    "from bokeh.models import GeoJSONDataSource, LinearColorMapper, ColorBar, NumeralTickFormatter\n",
    "from bokeh.palettes import brewer\n",
    "\n",
    "from bokeh.io.doc import curdoc\n",
    "from bokeh.models import Slider, HoverTool, Select\n",
    "from bokeh.layouts import widgetbox, row, column"
   ]
  },
  {
   "cell_type": "code",
   "execution_count": null,
   "metadata": {},
   "outputs": [],
   "source": [
    "# This dictionary contains the formatting for the data in the plots\n",
    "format_data = [('MTD_Cases', 500, 16000,'0,0', 'Month-To-Date Dengue Cases'),\n",
    "               ('MTD_Deaths', 0, 1200,'0,0', 'Month-To-Date Dengue Deaths')]              \n",
    " \n",
    "#Create a DataFrame object from the dictionary \n",
    "format_df = pd.DataFrame(format_data, columns = ['field' , 'min_range', 'max_range' , 'format', 'verbage'])\n",
    "format_df.head()"
   ]
  },
  {
   "cell_type": "code",
   "execution_count": null,
   "metadata": {},
   "outputs": [],
   "source": [
    "def json_data(selected_month):\n",
    "    month_dict = {1:'Jan', 2:'Feb', 3:'Mar', 4:'Apr', 5: 'May',  6: 'Jun',  7: 'Jul',  8: 'Aug'}\n",
    "#     mo = month_dict[selected_month]\n",
    "    \n",
    "    # Filter by selected month \n",
    "    filtered = merged_dengue_shape[merged_dengue_shape['Month']==month_dict[selected_month]]\n",
    "    \n",
    "    # Convert filtered data by month into a Geodataframe object\n",
    "    filtered_gpd = gpd.GeoDataFrame(filtered)\n",
    "\n",
    "    # Bokeh uses geojson formatting, representing geographical features, with json\n",
    "    # Convert to json\n",
    "    filtered_json = json.loads(filtered_gpd.to_json())\n",
    "    \n",
    "    # Convert to json preferred string-like object \n",
    "    json_data = json.dumps(filtered_json)\n",
    "    return json_data"
   ]
  },
  {
   "cell_type": "code",
   "execution_count": null,
   "metadata": {},
   "outputs": [],
   "source": [
    "# Define the callback function: update_plot\n",
    "def update_plot(attr, old, new):\n",
    "    # The input month is the month selected from the slider\n",
    "    select_month = slider.value\n",
    "    new_data = json_data(select_month)\n",
    "    \n",
    "    # The input cr is the dengue reports selected from the select box\n",
    "    cr = select.value\n",
    "    input_field = format_df.loc[format_df['verbage'] == cr, 'field'].iloc[0]\n",
    "    \n",
    "    # Update the plot based on the changed inputs\n",
    "    p = make_plot(input_field)\n",
    "    \n",
    "    # Update the layout, clear the old document and display the new document\n",
    "    layout = column(p, widgetbox(select), widgetbox(slider))\n",
    "    curdoc().clear()\n",
    "    curdoc().add_root(layout)\n",
    "    \n",
    "    # Update the data\n",
    "    geosource.geojson = new_data "
   ]
  },
  {
   "cell_type": "code",
   "execution_count": null,
   "metadata": {},
   "outputs": [],
   "source": [
    "# Create a plotting function\n",
    "def make_plot(field_name):    \n",
    "    # Set the format of the colorbar\n",
    "    min_range = format_df.loc[format_df['field'] == field_name, 'min_range'].iloc[0]\n",
    "    max_range = format_df.loc[format_df['field'] == field_name, 'max_range'].iloc[0]\n",
    "    field_format = format_df.loc[format_df['field'] == field_name, 'format'].iloc[0]\n",
    "\n",
    "      # Instantiate LinearColorMapper that linearly maps numbers in a range, into a sequence of colors.\n",
    "    color_mapper = LinearColorMapper(palette = palette, low = min_range, high = max_range)\n",
    "\n",
    "      # Create color bar.\n",
    "    format_tick = NumeralTickFormatter(format=field_format)\n",
    "    color_bar = ColorBar(color_mapper=color_mapper, label_standoff=8, formatter=format_tick,\n",
    "    border_line_color=None, location = (0, 0))\n",
    "\n",
    "      # Create figure object.\n",
    "    verbage = format_df.loc[format_df['field'] == field_name, 'verbage'].iloc[0]\n",
    "\n",
    "    p = figure(title = verbage + ' in the Philippines by period - January 2019 - August 2019', \n",
    "                 plot_height = 850, plot_width = 1050,\n",
    "                 toolbar_location = None)\n",
    "    p.xgrid.grid_line_color = None\n",
    "    p.ygrid.grid_line_color = None\n",
    "    p.axis.visible = False\n",
    "\n",
    "      # Add patch renderer to figure. \n",
    "    p.patches('xs','ys', source = geosource, fill_color = {'field' : field_name, 'transform' : color_mapper},\n",
    "              line_color = 'black', line_width = 0.25, fill_alpha = 1)\n",
    "\n",
    "      # Specify color bar layout.\n",
    "    p.add_layout(color_bar, 'right')\n",
    "\n",
    "      # Add the hover tool to the graph\n",
    "    p.add_tools(hover)\n",
    "    return p"
   ]
  },
  {
   "cell_type": "markdown",
   "metadata": {},
   "source": [
    "# Interactive Map"
   ]
  },
  {
   "cell_type": "code",
   "execution_count": null,
   "metadata": {},
   "outputs": [],
   "source": [
    "# Input geojson source that contains features for plotting for:\n",
    "# initial month- August and initial criteria- Month-To-Date Cases\n",
    "geosource = GeoJSONDataSource(geojson = json_data(8))\n",
    "input_field ='MTD_Cases'\n",
    "\n",
    "# Define a sequential multi-hue color palette.\n",
    "palette = brewer['YlOrBr'][9]\n",
    "\n",
    "# Reverse color order so that dark blue is highest obesity.\n",
    "palette = palette[::-1]\n",
    "\n",
    "# Add hover tool\n",
    "\n",
    "hover = HoverTool(tooltips = [ ('Location:', '@Region'),\n",
    "                               ('Month-To-Date Dengue Cases:', '@MTD_Cases'),\n",
    "                               ('Month-To-Date Dengue Deaths:', '@MTD_Deaths')])\n",
    "# Call the plotting function\n",
    "p = make_plot(input_field)\n",
    "\n",
    "# Make a slider object: slider \n",
    "slider = Slider(title = 'Select Month', start = 1, end = 8, step = 1, value = 8)\n",
    "slider.on_change('value', update_plot)\n",
    "\n",
    "# Make a selection object: select\n",
    "select = Select(title='Select Dengue Reports:', value='Month-To-Date Dengue Cases', options=['Month-To-Date Dengue Cases', 'Month-To-Date Dengue Deaths'])\n",
    "select.on_change('value', update_plot)\n",
    "\n",
    "# Make a column layout of widgetbox(slider) and plot, and add it to the current document\n",
    "# Display the current document\n",
    "layout = column(p, widgetbox(select), widgetbox(slider))\n",
    "curdoc().add_root(layout)\n",
    "\n",
    "# Use the following code to test in a notebook, comment out for transfer to live site\n",
    "# # # Interactive features will not show in notebook\n",
    "output_notebook()\n",
    "show(p)"
   ]
  },
  {
   "cell_type": "code",
   "execution_count": null,
   "metadata": {},
   "outputs": [],
   "source": []
  },
  {
   "cell_type": "code",
   "execution_count": null,
   "metadata": {},
   "outputs": [],
   "source": []
  },
  {
   "cell_type": "code",
   "execution_count": null,
   "metadata": {},
   "outputs": [],
   "source": []
  },
  {
   "cell_type": "code",
   "execution_count": null,
   "metadata": {},
   "outputs": [],
   "source": []
  },
  {
   "cell_type": "code",
   "execution_count": null,
   "metadata": {},
   "outputs": [],
   "source": []
  },
  {
   "cell_type": "code",
   "execution_count": null,
   "metadata": {},
   "outputs": [],
   "source": []
  },
  {
   "cell_type": "code",
   "execution_count": null,
   "metadata": {},
   "outputs": [],
   "source": []
  },
  {
   "cell_type": "code",
   "execution_count": null,
   "metadata": {},
   "outputs": [],
   "source": []
  },
  {
   "cell_type": "code",
   "execution_count": null,
   "metadata": {},
   "outputs": [],
   "source": []
  },
  {
   "cell_type": "code",
   "execution_count": null,
   "metadata": {},
   "outputs": [],
   "source": []
  },
  {
   "cell_type": "code",
   "execution_count": null,
   "metadata": {},
   "outputs": [],
   "source": []
  },
  {
   "cell_type": "code",
   "execution_count": null,
   "metadata": {},
   "outputs": [],
   "source": []
  },
  {
   "cell_type": "code",
   "execution_count": null,
   "metadata": {},
   "outputs": [],
   "source": []
  },
  {
   "cell_type": "code",
   "execution_count": null,
   "metadata": {},
   "outputs": [],
   "source": []
  },
  {
   "cell_type": "code",
   "execution_count": null,
   "metadata": {},
   "outputs": [],
   "source": []
  },
  {
   "cell_type": "code",
   "execution_count": null,
   "metadata": {},
   "outputs": [],
   "source": []
  },
  {
   "cell_type": "code",
   "execution_count": null,
   "metadata": {},
   "outputs": [],
   "source": []
  },
  {
   "cell_type": "code",
   "execution_count": null,
   "metadata": {},
   "outputs": [],
   "source": []
  },
  {
   "cell_type": "code",
   "execution_count": null,
   "metadata": {},
   "outputs": [],
   "source": []
  },
  {
   "cell_type": "code",
   "execution_count": null,
   "metadata": {},
   "outputs": [],
   "source": []
  },
  {
   "cell_type": "code",
   "execution_count": null,
   "metadata": {},
   "outputs": [],
   "source": []
  },
  {
   "cell_type": "code",
   "execution_count": null,
   "metadata": {},
   "outputs": [],
   "source": []
  },
  {
   "cell_type": "code",
   "execution_count": null,
   "metadata": {},
   "outputs": [],
   "source": []
  },
  {
   "cell_type": "code",
   "execution_count": null,
   "metadata": {},
   "outputs": [],
   "source": []
  },
  {
   "cell_type": "code",
   "execution_count": null,
   "metadata": {},
   "outputs": [],
   "source": []
  },
  {
   "cell_type": "code",
   "execution_count": null,
   "metadata": {},
   "outputs": [],
   "source": []
  },
  {
   "cell_type": "code",
   "execution_count": null,
   "metadata": {},
   "outputs": [],
   "source": []
  },
  {
   "cell_type": "code",
   "execution_count": null,
   "metadata": {},
   "outputs": [],
   "source": []
  }
 ],
 "metadata": {
  "kernelspec": {
   "display_name": "Python 3",
   "language": "python",
   "name": "python3"
  },
  "language_info": {
   "codemirror_mode": {
    "name": "ipython",
    "version": 3
   },
   "file_extension": ".py",
   "mimetype": "text/x-python",
   "name": "python",
   "nbconvert_exporter": "python",
   "pygments_lexer": "ipython3",
   "version": "3.7.4"
  }
 },
 "nbformat": 4,
 "nbformat_minor": 2
}
